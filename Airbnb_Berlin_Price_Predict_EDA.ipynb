{
  "nbformat": 4,
  "nbformat_minor": 0,
  "metadata": {
    "colab": {
      "provenance": [],
      "toc_visible": true
    },
    "kernelspec": {
      "name": "python3",
      "display_name": "Python 3"
    },
    "language_info": {
      "name": "python"
    }
  },
  "cells": [
    {
      "cell_type": "code",
      "source": [
        "# !pip install missingno\n",
        "# !pip install geopy"
      ],
      "metadata": {
        "id": "-L1XbnrJYgiZ"
      },
      "execution_count": 1,
      "outputs": []
    },
    {
      "cell_type": "code",
      "source": [
        "import seaborn as sns\n",
        "import matplotlib.pyplot as plt\n",
        "import pandas as pd\n",
        "import numpy as np\n",
        "import warnings\n",
        "\n",
        "# Ignore warnings\n",
        "warnings.filterwarnings('ignore')\n",
        "pd.set_option('display.max_columns', None)"
      ],
      "metadata": {
        "id": "FwFelltQfgFE"
      },
      "execution_count": 2,
      "outputs": []
    },
    {
      "cell_type": "code",
      "execution_count": 3,
      "metadata": {
        "id": "3Dj3TXKX8skK",
        "colab": {
          "base_uri": "https://localhost:8080/"
        },
        "outputId": "8a5deb64-38a1-4fda-d472-a2afece95066"
      },
      "outputs": [
        {
          "output_type": "stream",
          "name": "stdout",
          "text": [
            "Mounted at /content/drive\n"
          ]
        }
      ],
      "source": [
        "from google.colab import drive\n",
        "drive.mount('/content/drive')"
      ]
    },
    {
      "cell_type": "code",
      "source": [
        "df_EDA = pd.read_pickle('/content/drive/My Drive/Airbnb/df_EDA.pkl')"
      ],
      "metadata": {
        "id": "01IKm7fk9D4J"
      },
      "execution_count": 4,
      "outputs": []
    },
    {
      "cell_type": "code",
      "source": [
        "df = df_EDA.copy()"
      ],
      "metadata": {
        "id": "eMm0EcF3sGxC"
      },
      "execution_count": 5,
      "outputs": []
    },
    {
      "cell_type": "code",
      "source": [
        "# df = df.drop(columns=['Listing ID','Host ID'])\n",
        "df.info()"
      ],
      "metadata": {
        "colab": {
          "base_uri": "https://localhost:8080/"
        },
        "id": "C6KGUM4ocUip",
        "outputId": "36aec808-e590-4b0e-8aab-c970beb58f66"
      },
      "execution_count": 6,
      "outputs": [
        {
          "output_type": "stream",
          "name": "stdout",
          "text": [
            "<class 'pandas.core.frame.DataFrame'>\n",
            "RangeIndex: 23536 entries, 0 to 23535\n",
            "Data columns (total 37 columns):\n",
            " #   Column                 Non-Null Count  Dtype         \n",
            "---  ------                 --------------  -----         \n",
            " 0   Listing ID             23536 non-null  int64         \n",
            " 1   Accomodates            23536 non-null  float64       \n",
            " 2   Accuracy Rating        18888 non-null  float64       \n",
            " 3   Bathrooms              23507 non-null  float64       \n",
            " 4   Bedrooms               23516 non-null  float64       \n",
            " 5   Beds                   23501 non-null  float64       \n",
            " 6   Checkin Rating         18870 non-null  float64       \n",
            " 7   Cleanliness Rating     18892 non-null  float64       \n",
            " 8   Communication Rating   18886 non-null  float64       \n",
            " 9   Guests Included        23536 non-null  float64       \n",
            " 10  Host ID                23536 non-null  float64       \n",
            " 11  Latitude               23536 non-null  float64       \n",
            " 12  Location Rating        18871 non-null  float64       \n",
            " 13  Longitude              23536 non-null  float64       \n",
            " 14  Min Nights             23536 non-null  float64       \n",
            " 15  Overall Rating         18914 non-null  float64       \n",
            " 16  Reviews                23536 non-null  float64       \n",
            " 17  Value Rating           18868 non-null  float64       \n",
            " 18  review_date            19380 non-null  object        \n",
            " 19  Host Since             23515 non-null  datetime64[ns]\n",
            " 20  Host Response Time     13046 non-null  object        \n",
            " 21  Host Response Rate     13046 non-null  float64       \n",
            " 22  Is Superhost           23536 non-null  bool          \n",
            " 23  neighbourhood          23536 non-null  object        \n",
            " 24  Neighborhood Group     23536 non-null  object        \n",
            " 25  Postal Code            22951 non-null  object        \n",
            " 26  Is Exact Location      23536 non-null  bool          \n",
            " 27  Property Type          23536 non-null  object        \n",
            " 28  Room Type              23536 non-null  object        \n",
            " 29  Price                  23536 non-null  float64       \n",
            " 30  Instant Bookable       23536 non-null  bool          \n",
            " 31  Neighbourhood Grouped  23536 non-null  object        \n",
            " 32  Property Type Reduced  23536 non-null  object        \n",
            " 33  Postal Code Reduced    22951 non-null  object        \n",
            " 34  Host Since Year        23515 non-null  category      \n",
            " 35  Host Since Month       23515 non-null  category      \n",
            " 36  Host Since Day         23515 non-null  category      \n",
            "dtypes: bool(3), category(3), datetime64[ns](1), float64(19), int64(1), object(10)\n",
            "memory usage: 5.7+ MB\n"
          ]
        }
      ]
    },
    {
      "cell_type": "markdown",
      "source": [
        "## Defines data columns Lists"
      ],
      "metadata": {
        "id": "jXtVdCkHInq8"
      }
    },
    {
      "cell_type": "code",
      "source": [
        "numerical_columns = ['Accomodates', 'Bathrooms', 'Bedrooms', 'Beds', 'Guests Included','Min Nights','Reviews','Price']\n",
        "rating_columns = ['Value Rating','Location Rating', 'Cleanliness Rating','Checkin Rating','Accuracy Rating','Communication Rating','Host Response Rate','Overall Rating']\n",
        "boolean_columns = ['Is Superhost','Is Exact Location', 'Instant Bookable']\n",
        "categorical_columns = ['Room Type','Property Type Reduced','Neighborhood Group','Postal Code Reduced','Host Response Time'] # , 'Neighbourhood Grouped'\n",
        "date_columns = ['review_date','Host Since']\n",
        "non_categorical_columns = numerical_columns + rating_columns + boolean_columns"
      ],
      "metadata": {
        "id": "r6rhanVN3930"
      },
      "execution_count": 7,
      "outputs": []
    },
    {
      "cell_type": "code",
      "source": [
        "df[categorical_columns].describe()"
      ],
      "metadata": {
        "colab": {
          "base_uri": "https://localhost:8080/",
          "height": 174
        },
        "id": "6qzq_ZKm62D9",
        "outputId": "4d3f8e05-b109-4060-9bcd-c19c0752beb1"
      },
      "execution_count": 8,
      "outputs": [
        {
          "output_type": "execute_result",
          "data": {
            "text/plain": [
              "           Room Type Property Type Reduced        Neighborhood Group  \\\n",
              "count          23536                 23536                     23536   \n",
              "unique             3                    15                        12   \n",
              "top     Private room             Apartment  Friedrichshain-Kreuzberg   \n",
              "freq           11694                 20935                      5726   \n",
              "\n",
              "       Postal Code Reduced Host Response Time  \n",
              "count                22951              13046  \n",
              "unique                   7                  4  \n",
              "top                     10     within an hour  \n",
              "freq                 14667               6816  "
            ],
            "text/html": [
              "\n",
              "  <div id=\"df-b6946084-cf01-489a-9ed5-220c7b634343\" class=\"colab-df-container\">\n",
              "    <div>\n",
              "<style scoped>\n",
              "    .dataframe tbody tr th:only-of-type {\n",
              "        vertical-align: middle;\n",
              "    }\n",
              "\n",
              "    .dataframe tbody tr th {\n",
              "        vertical-align: top;\n",
              "    }\n",
              "\n",
              "    .dataframe thead th {\n",
              "        text-align: right;\n",
              "    }\n",
              "</style>\n",
              "<table border=\"1\" class=\"dataframe\">\n",
              "  <thead>\n",
              "    <tr style=\"text-align: right;\">\n",
              "      <th></th>\n",
              "      <th>Room Type</th>\n",
              "      <th>Property Type Reduced</th>\n",
              "      <th>Neighborhood Group</th>\n",
              "      <th>Postal Code Reduced</th>\n",
              "      <th>Host Response Time</th>\n",
              "    </tr>\n",
              "  </thead>\n",
              "  <tbody>\n",
              "    <tr>\n",
              "      <th>count</th>\n",
              "      <td>23536</td>\n",
              "      <td>23536</td>\n",
              "      <td>23536</td>\n",
              "      <td>22951</td>\n",
              "      <td>13046</td>\n",
              "    </tr>\n",
              "    <tr>\n",
              "      <th>unique</th>\n",
              "      <td>3</td>\n",
              "      <td>15</td>\n",
              "      <td>12</td>\n",
              "      <td>7</td>\n",
              "      <td>4</td>\n",
              "    </tr>\n",
              "    <tr>\n",
              "      <th>top</th>\n",
              "      <td>Private room</td>\n",
              "      <td>Apartment</td>\n",
              "      <td>Friedrichshain-Kreuzberg</td>\n",
              "      <td>10</td>\n",
              "      <td>within an hour</td>\n",
              "    </tr>\n",
              "    <tr>\n",
              "      <th>freq</th>\n",
              "      <td>11694</td>\n",
              "      <td>20935</td>\n",
              "      <td>5726</td>\n",
              "      <td>14667</td>\n",
              "      <td>6816</td>\n",
              "    </tr>\n",
              "  </tbody>\n",
              "</table>\n",
              "</div>\n",
              "    <div class=\"colab-df-buttons\">\n",
              "\n",
              "  <div class=\"colab-df-container\">\n",
              "    <button class=\"colab-df-convert\" onclick=\"convertToInteractive('df-b6946084-cf01-489a-9ed5-220c7b634343')\"\n",
              "            title=\"Convert this dataframe to an interactive table.\"\n",
              "            style=\"display:none;\">\n",
              "\n",
              "  <svg xmlns=\"http://www.w3.org/2000/svg\" height=\"24px\" viewBox=\"0 -960 960 960\">\n",
              "    <path d=\"M120-120v-720h720v720H120Zm60-500h600v-160H180v160Zm220 220h160v-160H400v160Zm0 220h160v-160H400v160ZM180-400h160v-160H180v160Zm440 0h160v-160H620v160ZM180-180h160v-160H180v160Zm440 0h160v-160H620v160Z\"/>\n",
              "  </svg>\n",
              "    </button>\n",
              "\n",
              "  <style>\n",
              "    .colab-df-container {\n",
              "      display:flex;\n",
              "      gap: 12px;\n",
              "    }\n",
              "\n",
              "    .colab-df-convert {\n",
              "      background-color: #E8F0FE;\n",
              "      border: none;\n",
              "      border-radius: 50%;\n",
              "      cursor: pointer;\n",
              "      display: none;\n",
              "      fill: #1967D2;\n",
              "      height: 32px;\n",
              "      padding: 0 0 0 0;\n",
              "      width: 32px;\n",
              "    }\n",
              "\n",
              "    .colab-df-convert:hover {\n",
              "      background-color: #E2EBFA;\n",
              "      box-shadow: 0px 1px 2px rgba(60, 64, 67, 0.3), 0px 1px 3px 1px rgba(60, 64, 67, 0.15);\n",
              "      fill: #174EA6;\n",
              "    }\n",
              "\n",
              "    .colab-df-buttons div {\n",
              "      margin-bottom: 4px;\n",
              "    }\n",
              "\n",
              "    [theme=dark] .colab-df-convert {\n",
              "      background-color: #3B4455;\n",
              "      fill: #D2E3FC;\n",
              "    }\n",
              "\n",
              "    [theme=dark] .colab-df-convert:hover {\n",
              "      background-color: #434B5C;\n",
              "      box-shadow: 0px 1px 3px 1px rgba(0, 0, 0, 0.15);\n",
              "      filter: drop-shadow(0px 1px 2px rgba(0, 0, 0, 0.3));\n",
              "      fill: #FFFFFF;\n",
              "    }\n",
              "  </style>\n",
              "\n",
              "    <script>\n",
              "      const buttonEl =\n",
              "        document.querySelector('#df-b6946084-cf01-489a-9ed5-220c7b634343 button.colab-df-convert');\n",
              "      buttonEl.style.display =\n",
              "        google.colab.kernel.accessAllowed ? 'block' : 'none';\n",
              "\n",
              "      async function convertToInteractive(key) {\n",
              "        const element = document.querySelector('#df-b6946084-cf01-489a-9ed5-220c7b634343');\n",
              "        const dataTable =\n",
              "          await google.colab.kernel.invokeFunction('convertToInteractive',\n",
              "                                                    [key], {});\n",
              "        if (!dataTable) return;\n",
              "\n",
              "        const docLinkHtml = 'Like what you see? Visit the ' +\n",
              "          '<a target=\"_blank\" href=https://colab.research.google.com/notebooks/data_table.ipynb>data table notebook</a>'\n",
              "          + ' to learn more about interactive tables.';\n",
              "        element.innerHTML = '';\n",
              "        dataTable['output_type'] = 'display_data';\n",
              "        await google.colab.output.renderOutput(dataTable, element);\n",
              "        const docLink = document.createElement('div');\n",
              "        docLink.innerHTML = docLinkHtml;\n",
              "        element.appendChild(docLink);\n",
              "      }\n",
              "    </script>\n",
              "  </div>\n",
              "\n",
              "\n",
              "<div id=\"df-614296f9-9645-4c98-8f30-7c3f582a32db\">\n",
              "  <button class=\"colab-df-quickchart\" onclick=\"quickchart('df-614296f9-9645-4c98-8f30-7c3f582a32db')\"\n",
              "            title=\"Suggest charts\"\n",
              "            style=\"display:none;\">\n",
              "\n",
              "<svg xmlns=\"http://www.w3.org/2000/svg\" height=\"24px\"viewBox=\"0 0 24 24\"\n",
              "     width=\"24px\">\n",
              "    <g>\n",
              "        <path d=\"M19 3H5c-1.1 0-2 .9-2 2v14c0 1.1.9 2 2 2h14c1.1 0 2-.9 2-2V5c0-1.1-.9-2-2-2zM9 17H7v-7h2v7zm4 0h-2V7h2v10zm4 0h-2v-4h2v4z\"/>\n",
              "    </g>\n",
              "</svg>\n",
              "  </button>\n",
              "\n",
              "<style>\n",
              "  .colab-df-quickchart {\n",
              "      --bg-color: #E8F0FE;\n",
              "      --fill-color: #1967D2;\n",
              "      --hover-bg-color: #E2EBFA;\n",
              "      --hover-fill-color: #174EA6;\n",
              "      --disabled-fill-color: #AAA;\n",
              "      --disabled-bg-color: #DDD;\n",
              "  }\n",
              "\n",
              "  [theme=dark] .colab-df-quickchart {\n",
              "      --bg-color: #3B4455;\n",
              "      --fill-color: #D2E3FC;\n",
              "      --hover-bg-color: #434B5C;\n",
              "      --hover-fill-color: #FFFFFF;\n",
              "      --disabled-bg-color: #3B4455;\n",
              "      --disabled-fill-color: #666;\n",
              "  }\n",
              "\n",
              "  .colab-df-quickchart {\n",
              "    background-color: var(--bg-color);\n",
              "    border: none;\n",
              "    border-radius: 50%;\n",
              "    cursor: pointer;\n",
              "    display: none;\n",
              "    fill: var(--fill-color);\n",
              "    height: 32px;\n",
              "    padding: 0;\n",
              "    width: 32px;\n",
              "  }\n",
              "\n",
              "  .colab-df-quickchart:hover {\n",
              "    background-color: var(--hover-bg-color);\n",
              "    box-shadow: 0 1px 2px rgba(60, 64, 67, 0.3), 0 1px 3px 1px rgba(60, 64, 67, 0.15);\n",
              "    fill: var(--button-hover-fill-color);\n",
              "  }\n",
              "\n",
              "  .colab-df-quickchart-complete:disabled,\n",
              "  .colab-df-quickchart-complete:disabled:hover {\n",
              "    background-color: var(--disabled-bg-color);\n",
              "    fill: var(--disabled-fill-color);\n",
              "    box-shadow: none;\n",
              "  }\n",
              "\n",
              "  .colab-df-spinner {\n",
              "    border: 2px solid var(--fill-color);\n",
              "    border-color: transparent;\n",
              "    border-bottom-color: var(--fill-color);\n",
              "    animation:\n",
              "      spin 1s steps(1) infinite;\n",
              "  }\n",
              "\n",
              "  @keyframes spin {\n",
              "    0% {\n",
              "      border-color: transparent;\n",
              "      border-bottom-color: var(--fill-color);\n",
              "      border-left-color: var(--fill-color);\n",
              "    }\n",
              "    20% {\n",
              "      border-color: transparent;\n",
              "      border-left-color: var(--fill-color);\n",
              "      border-top-color: var(--fill-color);\n",
              "    }\n",
              "    30% {\n",
              "      border-color: transparent;\n",
              "      border-left-color: var(--fill-color);\n",
              "      border-top-color: var(--fill-color);\n",
              "      border-right-color: var(--fill-color);\n",
              "    }\n",
              "    40% {\n",
              "      border-color: transparent;\n",
              "      border-right-color: var(--fill-color);\n",
              "      border-top-color: var(--fill-color);\n",
              "    }\n",
              "    60% {\n",
              "      border-color: transparent;\n",
              "      border-right-color: var(--fill-color);\n",
              "    }\n",
              "    80% {\n",
              "      border-color: transparent;\n",
              "      border-right-color: var(--fill-color);\n",
              "      border-bottom-color: var(--fill-color);\n",
              "    }\n",
              "    90% {\n",
              "      border-color: transparent;\n",
              "      border-bottom-color: var(--fill-color);\n",
              "    }\n",
              "  }\n",
              "</style>\n",
              "\n",
              "  <script>\n",
              "    async function quickchart(key) {\n",
              "      const quickchartButtonEl =\n",
              "        document.querySelector('#' + key + ' button');\n",
              "      quickchartButtonEl.disabled = true;  // To prevent multiple clicks.\n",
              "      quickchartButtonEl.classList.add('colab-df-spinner');\n",
              "      try {\n",
              "        const charts = await google.colab.kernel.invokeFunction(\n",
              "            'suggestCharts', [key], {});\n",
              "      } catch (error) {\n",
              "        console.error('Error during call to suggestCharts:', error);\n",
              "      }\n",
              "      quickchartButtonEl.classList.remove('colab-df-spinner');\n",
              "      quickchartButtonEl.classList.add('colab-df-quickchart-complete');\n",
              "    }\n",
              "    (() => {\n",
              "      let quickchartButtonEl =\n",
              "        document.querySelector('#df-614296f9-9645-4c98-8f30-7c3f582a32db button');\n",
              "      quickchartButtonEl.style.display =\n",
              "        google.colab.kernel.accessAllowed ? 'block' : 'none';\n",
              "    })();\n",
              "  </script>\n",
              "</div>\n",
              "\n",
              "    </div>\n",
              "  </div>\n"
            ],
            "application/vnd.google.colaboratory.intrinsic+json": {
              "type": "dataframe",
              "summary": "{\n  \"name\": \"df[categorical_columns]\",\n  \"rows\": 4,\n  \"fields\": [\n    {\n      \"column\": \"Room Type\",\n      \"properties\": {\n        \"dtype\": \"string\",\n        \"num_unique_values\": 4,\n        \"samples\": [\n          3,\n          \"11694\",\n          \"23536\"\n        ],\n        \"semantic_type\": \"\",\n        \"description\": \"\"\n      }\n    },\n    {\n      \"column\": \"Property Type Reduced\",\n      \"properties\": {\n        \"dtype\": \"string\",\n        \"num_unique_values\": 4,\n        \"samples\": [\n          15,\n          \"20935\",\n          \"23536\"\n        ],\n        \"semantic_type\": \"\",\n        \"description\": \"\"\n      }\n    },\n    {\n      \"column\": \"Neighborhood Group\",\n      \"properties\": {\n        \"dtype\": \"string\",\n        \"num_unique_values\": 4,\n        \"samples\": [\n          12,\n          \"5726\",\n          \"23536\"\n        ],\n        \"semantic_type\": \"\",\n        \"description\": \"\"\n      }\n    },\n    {\n      \"column\": \"Postal Code Reduced\",\n      \"properties\": {\n        \"dtype\": \"string\",\n        \"num_unique_values\": 4,\n        \"samples\": [\n          7,\n          \"14667\",\n          \"22951\"\n        ],\n        \"semantic_type\": \"\",\n        \"description\": \"\"\n      }\n    },\n    {\n      \"column\": \"Host Response Time\",\n      \"properties\": {\n        \"dtype\": \"string\",\n        \"num_unique_values\": 4,\n        \"samples\": [\n          4,\n          \"6816\",\n          \"13046\"\n        ],\n        \"semantic_type\": \"\",\n        \"description\": \"\"\n      }\n    }\n  ]\n}"
            }
          },
          "metadata": {},
          "execution_count": 8
        }
      ]
    },
    {
      "cell_type": "markdown",
      "source": [
        "# EDA - Explenatory Data Analysis"
      ],
      "metadata": {
        "id": "2in5s9KPws7k"
      }
    },
    {
      "cell_type": "markdown",
      "source": [
        "## Data Protocol"
      ],
      "metadata": {
        "id": "VHfpkWQc6jKr"
      }
    },
    {
      "cell_type": "code",
      "source": [
        "#Type of data\n",
        "df.dtypes.to_excel (\"df_datatype.xlsx\", sheet_name='data_types')\n",
        "\n",
        "#Maximum points\n",
        "df[non_categorical_columns].max().to_excel(\"df_max.xlsx\", sheet_name='max')\n",
        "\n",
        "#Minimum points\n",
        "df[non_categorical_columns].max().to_excel(\"df_max.xlsx\", sheet_name='min')\n",
        "\n",
        "#Isnull values\n",
        "df.isnull().to_excel(\"df_isnull.xlsx\", sheet_name='isnull')\n",
        "\n",
        "#unique values\n",
        "df.nunique().to_excel(\"df_nunique.xlsx\", sheet_name='nunique')\n",
        "\n",
        "# Categorical values\n",
        "df[categorical_columns].describe().to_excel(\"df_categorical.xlsx\", sheet_name='categorical')"
      ],
      "metadata": {
        "id": "ZFfKMuoC4oZV"
      },
      "execution_count": 9,
      "outputs": []
    },
    {
      "cell_type": "markdown",
      "source": [
        "## Descriptive statistics\n",
        "   "
      ],
      "metadata": {
        "id": "q5yDq8wEx7dZ"
      }
    },
    {
      "cell_type": "code",
      "source": [
        "df.shape"
      ],
      "metadata": {
        "colab": {
          "base_uri": "https://localhost:8080/"
        },
        "id": "vjWNxud1-P7W",
        "outputId": "7146e355-ea8d-4923-88dc-b56d9cc1b076"
      },
      "execution_count": 10,
      "outputs": [
        {
          "output_type": "execute_result",
          "data": {
            "text/plain": [
              "(23536, 37)"
            ]
          },
          "metadata": {},
          "execution_count": 10
        }
      ]
    },
    {
      "cell_type": "code",
      "source": [
        "df[numerical_columns].describe()"
      ],
      "metadata": {
        "colab": {
          "base_uri": "https://localhost:8080/",
          "height": 300
        },
        "id": "k3gUrYtQyNZP",
        "outputId": "f8953088-88e6-4e45-920e-4b710193f200"
      },
      "execution_count": 11,
      "outputs": [
        {
          "output_type": "execute_result",
          "data": {
            "text/plain": [
              "        Accomodates     Bathrooms      Bedrooms          Beds  \\\n",
              "count  23536.000000  23507.000000  23516.000000  23501.000000   \n",
              "mean       2.671737      1.095971      1.161720      1.641802   \n",
              "std        1.567812      0.346150      0.660736      1.228642   \n",
              "min        1.000000      0.000000      0.000000      0.000000   \n",
              "25%        2.000000      1.000000      1.000000      1.000000   \n",
              "50%        2.000000      1.000000      1.000000      1.000000   \n",
              "75%        3.000000      1.000000      1.000000      2.000000   \n",
              "max       16.000000      8.500000     10.000000     22.000000   \n",
              "\n",
              "       Guests Included    Min Nights       Reviews         Price  \n",
              "count     23536.000000  23536.000000  23536.000000  23536.000000  \n",
              "mean          1.346151      6.897774     19.238826     69.612424  \n",
              "std           0.856297     24.879032     40.360483    216.660408  \n",
              "min           1.000000      1.000000      0.000000      0.000000  \n",
              "25%           1.000000      2.000000      1.000000     32.000000  \n",
              "50%           1.000000      3.000000      5.000000     49.000000  \n",
              "75%           1.000000      4.000000     17.000000     75.000000  \n",
              "max          16.000000   1000.000000    545.000000   9000.000000  "
            ],
            "text/html": [
              "\n",
              "  <div id=\"df-02476821-e57d-4c40-98cf-2b51509b5e22\" class=\"colab-df-container\">\n",
              "    <div>\n",
              "<style scoped>\n",
              "    .dataframe tbody tr th:only-of-type {\n",
              "        vertical-align: middle;\n",
              "    }\n",
              "\n",
              "    .dataframe tbody tr th {\n",
              "        vertical-align: top;\n",
              "    }\n",
              "\n",
              "    .dataframe thead th {\n",
              "        text-align: right;\n",
              "    }\n",
              "</style>\n",
              "<table border=\"1\" class=\"dataframe\">\n",
              "  <thead>\n",
              "    <tr style=\"text-align: right;\">\n",
              "      <th></th>\n",
              "      <th>Accomodates</th>\n",
              "      <th>Bathrooms</th>\n",
              "      <th>Bedrooms</th>\n",
              "      <th>Beds</th>\n",
              "      <th>Guests Included</th>\n",
              "      <th>Min Nights</th>\n",
              "      <th>Reviews</th>\n",
              "      <th>Price</th>\n",
              "    </tr>\n",
              "  </thead>\n",
              "  <tbody>\n",
              "    <tr>\n",
              "      <th>count</th>\n",
              "      <td>23536.000000</td>\n",
              "      <td>23507.000000</td>\n",
              "      <td>23516.000000</td>\n",
              "      <td>23501.000000</td>\n",
              "      <td>23536.000000</td>\n",
              "      <td>23536.000000</td>\n",
              "      <td>23536.000000</td>\n",
              "      <td>23536.000000</td>\n",
              "    </tr>\n",
              "    <tr>\n",
              "      <th>mean</th>\n",
              "      <td>2.671737</td>\n",
              "      <td>1.095971</td>\n",
              "      <td>1.161720</td>\n",
              "      <td>1.641802</td>\n",
              "      <td>1.346151</td>\n",
              "      <td>6.897774</td>\n",
              "      <td>19.238826</td>\n",
              "      <td>69.612424</td>\n",
              "    </tr>\n",
              "    <tr>\n",
              "      <th>std</th>\n",
              "      <td>1.567812</td>\n",
              "      <td>0.346150</td>\n",
              "      <td>0.660736</td>\n",
              "      <td>1.228642</td>\n",
              "      <td>0.856297</td>\n",
              "      <td>24.879032</td>\n",
              "      <td>40.360483</td>\n",
              "      <td>216.660408</td>\n",
              "    </tr>\n",
              "    <tr>\n",
              "      <th>min</th>\n",
              "      <td>1.000000</td>\n",
              "      <td>0.000000</td>\n",
              "      <td>0.000000</td>\n",
              "      <td>0.000000</td>\n",
              "      <td>1.000000</td>\n",
              "      <td>1.000000</td>\n",
              "      <td>0.000000</td>\n",
              "      <td>0.000000</td>\n",
              "    </tr>\n",
              "    <tr>\n",
              "      <th>25%</th>\n",
              "      <td>2.000000</td>\n",
              "      <td>1.000000</td>\n",
              "      <td>1.000000</td>\n",
              "      <td>1.000000</td>\n",
              "      <td>1.000000</td>\n",
              "      <td>2.000000</td>\n",
              "      <td>1.000000</td>\n",
              "      <td>32.000000</td>\n",
              "    </tr>\n",
              "    <tr>\n",
              "      <th>50%</th>\n",
              "      <td>2.000000</td>\n",
              "      <td>1.000000</td>\n",
              "      <td>1.000000</td>\n",
              "      <td>1.000000</td>\n",
              "      <td>1.000000</td>\n",
              "      <td>3.000000</td>\n",
              "      <td>5.000000</td>\n",
              "      <td>49.000000</td>\n",
              "    </tr>\n",
              "    <tr>\n",
              "      <th>75%</th>\n",
              "      <td>3.000000</td>\n",
              "      <td>1.000000</td>\n",
              "      <td>1.000000</td>\n",
              "      <td>2.000000</td>\n",
              "      <td>1.000000</td>\n",
              "      <td>4.000000</td>\n",
              "      <td>17.000000</td>\n",
              "      <td>75.000000</td>\n",
              "    </tr>\n",
              "    <tr>\n",
              "      <th>max</th>\n",
              "      <td>16.000000</td>\n",
              "      <td>8.500000</td>\n",
              "      <td>10.000000</td>\n",
              "      <td>22.000000</td>\n",
              "      <td>16.000000</td>\n",
              "      <td>1000.000000</td>\n",
              "      <td>545.000000</td>\n",
              "      <td>9000.000000</td>\n",
              "    </tr>\n",
              "  </tbody>\n",
              "</table>\n",
              "</div>\n",
              "    <div class=\"colab-df-buttons\">\n",
              "\n",
              "  <div class=\"colab-df-container\">\n",
              "    <button class=\"colab-df-convert\" onclick=\"convertToInteractive('df-02476821-e57d-4c40-98cf-2b51509b5e22')\"\n",
              "            title=\"Convert this dataframe to an interactive table.\"\n",
              "            style=\"display:none;\">\n",
              "\n",
              "  <svg xmlns=\"http://www.w3.org/2000/svg\" height=\"24px\" viewBox=\"0 -960 960 960\">\n",
              "    <path d=\"M120-120v-720h720v720H120Zm60-500h600v-160H180v160Zm220 220h160v-160H400v160Zm0 220h160v-160H400v160ZM180-400h160v-160H180v160Zm440 0h160v-160H620v160ZM180-180h160v-160H180v160Zm440 0h160v-160H620v160Z\"/>\n",
              "  </svg>\n",
              "    </button>\n",
              "\n",
              "  <style>\n",
              "    .colab-df-container {\n",
              "      display:flex;\n",
              "      gap: 12px;\n",
              "    }\n",
              "\n",
              "    .colab-df-convert {\n",
              "      background-color: #E8F0FE;\n",
              "      border: none;\n",
              "      border-radius: 50%;\n",
              "      cursor: pointer;\n",
              "      display: none;\n",
              "      fill: #1967D2;\n",
              "      height: 32px;\n",
              "      padding: 0 0 0 0;\n",
              "      width: 32px;\n",
              "    }\n",
              "\n",
              "    .colab-df-convert:hover {\n",
              "      background-color: #E2EBFA;\n",
              "      box-shadow: 0px 1px 2px rgba(60, 64, 67, 0.3), 0px 1px 3px 1px rgba(60, 64, 67, 0.15);\n",
              "      fill: #174EA6;\n",
              "    }\n",
              "\n",
              "    .colab-df-buttons div {\n",
              "      margin-bottom: 4px;\n",
              "    }\n",
              "\n",
              "    [theme=dark] .colab-df-convert {\n",
              "      background-color: #3B4455;\n",
              "      fill: #D2E3FC;\n",
              "    }\n",
              "\n",
              "    [theme=dark] .colab-df-convert:hover {\n",
              "      background-color: #434B5C;\n",
              "      box-shadow: 0px 1px 3px 1px rgba(0, 0, 0, 0.15);\n",
              "      filter: drop-shadow(0px 1px 2px rgba(0, 0, 0, 0.3));\n",
              "      fill: #FFFFFF;\n",
              "    }\n",
              "  </style>\n",
              "\n",
              "    <script>\n",
              "      const buttonEl =\n",
              "        document.querySelector('#df-02476821-e57d-4c40-98cf-2b51509b5e22 button.colab-df-convert');\n",
              "      buttonEl.style.display =\n",
              "        google.colab.kernel.accessAllowed ? 'block' : 'none';\n",
              "\n",
              "      async function convertToInteractive(key) {\n",
              "        const element = document.querySelector('#df-02476821-e57d-4c40-98cf-2b51509b5e22');\n",
              "        const dataTable =\n",
              "          await google.colab.kernel.invokeFunction('convertToInteractive',\n",
              "                                                    [key], {});\n",
              "        if (!dataTable) return;\n",
              "\n",
              "        const docLinkHtml = 'Like what you see? Visit the ' +\n",
              "          '<a target=\"_blank\" href=https://colab.research.google.com/notebooks/data_table.ipynb>data table notebook</a>'\n",
              "          + ' to learn more about interactive tables.';\n",
              "        element.innerHTML = '';\n",
              "        dataTable['output_type'] = 'display_data';\n",
              "        await google.colab.output.renderOutput(dataTable, element);\n",
              "        const docLink = document.createElement('div');\n",
              "        docLink.innerHTML = docLinkHtml;\n",
              "        element.appendChild(docLink);\n",
              "      }\n",
              "    </script>\n",
              "  </div>\n",
              "\n",
              "\n",
              "<div id=\"df-6de0e21b-dad0-4f0f-a643-1e5255d2b3d2\">\n",
              "  <button class=\"colab-df-quickchart\" onclick=\"quickchart('df-6de0e21b-dad0-4f0f-a643-1e5255d2b3d2')\"\n",
              "            title=\"Suggest charts\"\n",
              "            style=\"display:none;\">\n",
              "\n",
              "<svg xmlns=\"http://www.w3.org/2000/svg\" height=\"24px\"viewBox=\"0 0 24 24\"\n",
              "     width=\"24px\">\n",
              "    <g>\n",
              "        <path d=\"M19 3H5c-1.1 0-2 .9-2 2v14c0 1.1.9 2 2 2h14c1.1 0 2-.9 2-2V5c0-1.1-.9-2-2-2zM9 17H7v-7h2v7zm4 0h-2V7h2v10zm4 0h-2v-4h2v4z\"/>\n",
              "    </g>\n",
              "</svg>\n",
              "  </button>\n",
              "\n",
              "<style>\n",
              "  .colab-df-quickchart {\n",
              "      --bg-color: #E8F0FE;\n",
              "      --fill-color: #1967D2;\n",
              "      --hover-bg-color: #E2EBFA;\n",
              "      --hover-fill-color: #174EA6;\n",
              "      --disabled-fill-color: #AAA;\n",
              "      --disabled-bg-color: #DDD;\n",
              "  }\n",
              "\n",
              "  [theme=dark] .colab-df-quickchart {\n",
              "      --bg-color: #3B4455;\n",
              "      --fill-color: #D2E3FC;\n",
              "      --hover-bg-color: #434B5C;\n",
              "      --hover-fill-color: #FFFFFF;\n",
              "      --disabled-bg-color: #3B4455;\n",
              "      --disabled-fill-color: #666;\n",
              "  }\n",
              "\n",
              "  .colab-df-quickchart {\n",
              "    background-color: var(--bg-color);\n",
              "    border: none;\n",
              "    border-radius: 50%;\n",
              "    cursor: pointer;\n",
              "    display: none;\n",
              "    fill: var(--fill-color);\n",
              "    height: 32px;\n",
              "    padding: 0;\n",
              "    width: 32px;\n",
              "  }\n",
              "\n",
              "  .colab-df-quickchart:hover {\n",
              "    background-color: var(--hover-bg-color);\n",
              "    box-shadow: 0 1px 2px rgba(60, 64, 67, 0.3), 0 1px 3px 1px rgba(60, 64, 67, 0.15);\n",
              "    fill: var(--button-hover-fill-color);\n",
              "  }\n",
              "\n",
              "  .colab-df-quickchart-complete:disabled,\n",
              "  .colab-df-quickchart-complete:disabled:hover {\n",
              "    background-color: var(--disabled-bg-color);\n",
              "    fill: var(--disabled-fill-color);\n",
              "    box-shadow: none;\n",
              "  }\n",
              "\n",
              "  .colab-df-spinner {\n",
              "    border: 2px solid var(--fill-color);\n",
              "    border-color: transparent;\n",
              "    border-bottom-color: var(--fill-color);\n",
              "    animation:\n",
              "      spin 1s steps(1) infinite;\n",
              "  }\n",
              "\n",
              "  @keyframes spin {\n",
              "    0% {\n",
              "      border-color: transparent;\n",
              "      border-bottom-color: var(--fill-color);\n",
              "      border-left-color: var(--fill-color);\n",
              "    }\n",
              "    20% {\n",
              "      border-color: transparent;\n",
              "      border-left-color: var(--fill-color);\n",
              "      border-top-color: var(--fill-color);\n",
              "    }\n",
              "    30% {\n",
              "      border-color: transparent;\n",
              "      border-left-color: var(--fill-color);\n",
              "      border-top-color: var(--fill-color);\n",
              "      border-right-color: var(--fill-color);\n",
              "    }\n",
              "    40% {\n",
              "      border-color: transparent;\n",
              "      border-right-color: var(--fill-color);\n",
              "      border-top-color: var(--fill-color);\n",
              "    }\n",
              "    60% {\n",
              "      border-color: transparent;\n",
              "      border-right-color: var(--fill-color);\n",
              "    }\n",
              "    80% {\n",
              "      border-color: transparent;\n",
              "      border-right-color: var(--fill-color);\n",
              "      border-bottom-color: var(--fill-color);\n",
              "    }\n",
              "    90% {\n",
              "      border-color: transparent;\n",
              "      border-bottom-color: var(--fill-color);\n",
              "    }\n",
              "  }\n",
              "</style>\n",
              "\n",
              "  <script>\n",
              "    async function quickchart(key) {\n",
              "      const quickchartButtonEl =\n",
              "        document.querySelector('#' + key + ' button');\n",
              "      quickchartButtonEl.disabled = true;  // To prevent multiple clicks.\n",
              "      quickchartButtonEl.classList.add('colab-df-spinner');\n",
              "      try {\n",
              "        const charts = await google.colab.kernel.invokeFunction(\n",
              "            'suggestCharts', [key], {});\n",
              "      } catch (error) {\n",
              "        console.error('Error during call to suggestCharts:', error);\n",
              "      }\n",
              "      quickchartButtonEl.classList.remove('colab-df-spinner');\n",
              "      quickchartButtonEl.classList.add('colab-df-quickchart-complete');\n",
              "    }\n",
              "    (() => {\n",
              "      let quickchartButtonEl =\n",
              "        document.querySelector('#df-6de0e21b-dad0-4f0f-a643-1e5255d2b3d2 button');\n",
              "      quickchartButtonEl.style.display =\n",
              "        google.colab.kernel.accessAllowed ? 'block' : 'none';\n",
              "    })();\n",
              "  </script>\n",
              "</div>\n",
              "\n",
              "    </div>\n",
              "  </div>\n"
            ],
            "application/vnd.google.colaboratory.intrinsic+json": {
              "type": "dataframe",
              "summary": "{\n  \"name\": \"df[numerical_columns]\",\n  \"rows\": 8,\n  \"fields\": [\n    {\n      \"column\": \"Accomodates\",\n      \"properties\": {\n        \"dtype\": \"number\",\n        \"std\": 8319.807745087557,\n        \"min\": 1.0,\n        \"max\": 23536.0,\n        \"num_unique_values\": 7,\n        \"samples\": [\n          23536.0,\n          2.671736913664174,\n          3.0\n        ],\n        \"semantic_type\": \"\",\n        \"description\": \"\"\n      }\n    },\n    {\n      \"column\": \"Bathrooms\",\n      \"properties\": {\n        \"dtype\": \"number\",\n        \"std\": 8310.326329292235,\n        \"min\": 0.0,\n        \"max\": 23507.0,\n        \"num_unique_values\": 6,\n        \"samples\": [\n          23507.0,\n          1.0959714127706641,\n          8.5\n        ],\n        \"semantic_type\": \"\",\n        \"description\": \"\"\n      }\n    },\n    {\n      \"column\": \"Bedrooms\",\n      \"properties\": {\n        \"dtype\": \"number\",\n        \"std\": 8313.413516792674,\n        \"min\": 0.0,\n        \"max\": 23516.0,\n        \"num_unique_values\": 6,\n        \"samples\": [\n          23516.0,\n          1.161719680217724,\n          10.0\n        ],\n        \"semantic_type\": \"\",\n        \"description\": \"\"\n      }\n    },\n    {\n      \"column\": \"Beds\",\n      \"properties\": {\n        \"dtype\": \"number\",\n        \"std\": 8307.403280144987,\n        \"min\": 0.0,\n        \"max\": 23501.0,\n        \"num_unique_values\": 7,\n        \"samples\": [\n          23501.0,\n          1.641802476490362,\n          2.0\n        ],\n        \"semantic_type\": \"\",\n        \"description\": \"\"\n      }\n    },\n    {\n      \"column\": \"Guests Included\",\n      \"properties\": {\n        \"dtype\": \"number\",\n        \"std\": 8320.112857451686,\n        \"min\": 0.8562970175186905,\n        \"max\": 23536.0,\n        \"num_unique_values\": 5,\n        \"samples\": [\n          1.3461505778382052,\n          16.0,\n          0.8562970175186905\n        ],\n        \"semantic_type\": \"\",\n        \"description\": \"\"\n      }\n    },\n    {\n      \"column\": \"Min Nights\",\n      \"properties\": {\n        \"dtype\": \"number\",\n        \"std\": 8275.916897484349,\n        \"min\": 1.0,\n        \"max\": 23536.0,\n        \"num_unique_values\": 8,\n        \"samples\": [\n          6.897773623385452,\n          3.0,\n          23536.0\n        ],\n        \"semantic_type\": \"\",\n        \"description\": \"\"\n      }\n    },\n    {\n      \"column\": \"Reviews\",\n      \"properties\": {\n        \"dtype\": \"number\",\n        \"std\": 8291.628253458508,\n        \"min\": 0.0,\n        \"max\": 23536.0,\n        \"num_unique_values\": 8,\n        \"samples\": [\n          19.23882562882393,\n          5.0,\n          23536.0\n        ],\n        \"semantic_type\": \"\",\n        \"description\": \"\"\n      }\n    },\n    {\n      \"column\": \"Price\",\n      \"properties\": {\n        \"dtype\": \"number\",\n        \"std\": 8443.580179635917,\n        \"min\": 0.0,\n        \"max\": 23536.0,\n        \"num_unique_values\": 8,\n        \"samples\": [\n          69.612423521414,\n          49.0,\n          23536.0\n        ],\n        \"semantic_type\": \"\",\n        \"description\": \"\"\n      }\n    }\n  ]\n}"
            }
          },
          "metadata": {},
          "execution_count": 11
        }
      ]
    },
    {
      "cell_type": "code",
      "source": [
        "df[rating_columns].describe()"
      ],
      "metadata": {
        "colab": {
          "base_uri": "https://localhost:8080/",
          "height": 335
        },
        "id": "61vdiGqe8oxz",
        "outputId": "2e194925-a42f-4ed2-b2b8-a49f2edaf3a8"
      },
      "execution_count": 14,
      "outputs": [
        {
          "output_type": "execute_result",
          "data": {
            "text/plain": [
              "       Value Rating  Location Rating  Cleanliness Rating  Checkin Rating  \\\n",
              "count  18868.000000     18871.000000        18892.000000    18870.000000   \n",
              "mean       9.417638         9.550315            9.334904        9.728829   \n",
              "std        0.840456         0.748713            1.031248        0.695275   \n",
              "min        2.000000         2.000000            2.000000        2.000000   \n",
              "25%        9.000000         9.000000            9.000000       10.000000   \n",
              "50%       10.000000        10.000000           10.000000       10.000000   \n",
              "75%       10.000000        10.000000           10.000000       10.000000   \n",
              "max       10.000000        10.000000           10.000000       10.000000   \n",
              "\n",
              "       Accuracy Rating  Communication Rating  Host Response Rate  \\\n",
              "count     18888.000000          18886.000000        13046.000000   \n",
              "mean          9.679850              9.746479           91.842174   \n",
              "std           0.737798              0.679600           19.447852   \n",
              "min           2.000000              2.000000            0.000000   \n",
              "25%          10.000000             10.000000           95.000000   \n",
              "50%          10.000000             10.000000          100.000000   \n",
              "75%          10.000000             10.000000          100.000000   \n",
              "max          10.000000             10.000000          100.000000   \n",
              "\n",
              "       Overall Rating  \n",
              "count    18914.000000  \n",
              "mean        94.564344  \n",
              "std          7.599949  \n",
              "min         20.000000  \n",
              "25%         92.000000  \n",
              "50%         97.000000  \n",
              "75%        100.000000  \n",
              "max        100.000000  "
            ],
            "text/html": [
              "\n",
              "  <div id=\"df-621d1654-570f-4231-9275-1d0b07508357\" class=\"colab-df-container\">\n",
              "    <div>\n",
              "<style scoped>\n",
              "    .dataframe tbody tr th:only-of-type {\n",
              "        vertical-align: middle;\n",
              "    }\n",
              "\n",
              "    .dataframe tbody tr th {\n",
              "        vertical-align: top;\n",
              "    }\n",
              "\n",
              "    .dataframe thead th {\n",
              "        text-align: right;\n",
              "    }\n",
              "</style>\n",
              "<table border=\"1\" class=\"dataframe\">\n",
              "  <thead>\n",
              "    <tr style=\"text-align: right;\">\n",
              "      <th></th>\n",
              "      <th>Value Rating</th>\n",
              "      <th>Location Rating</th>\n",
              "      <th>Cleanliness Rating</th>\n",
              "      <th>Checkin Rating</th>\n",
              "      <th>Accuracy Rating</th>\n",
              "      <th>Communication Rating</th>\n",
              "      <th>Host Response Rate</th>\n",
              "      <th>Overall Rating</th>\n",
              "    </tr>\n",
              "  </thead>\n",
              "  <tbody>\n",
              "    <tr>\n",
              "      <th>count</th>\n",
              "      <td>18868.000000</td>\n",
              "      <td>18871.000000</td>\n",
              "      <td>18892.000000</td>\n",
              "      <td>18870.000000</td>\n",
              "      <td>18888.000000</td>\n",
              "      <td>18886.000000</td>\n",
              "      <td>13046.000000</td>\n",
              "      <td>18914.000000</td>\n",
              "    </tr>\n",
              "    <tr>\n",
              "      <th>mean</th>\n",
              "      <td>9.417638</td>\n",
              "      <td>9.550315</td>\n",
              "      <td>9.334904</td>\n",
              "      <td>9.728829</td>\n",
              "      <td>9.679850</td>\n",
              "      <td>9.746479</td>\n",
              "      <td>91.842174</td>\n",
              "      <td>94.564344</td>\n",
              "    </tr>\n",
              "    <tr>\n",
              "      <th>std</th>\n",
              "      <td>0.840456</td>\n",
              "      <td>0.748713</td>\n",
              "      <td>1.031248</td>\n",
              "      <td>0.695275</td>\n",
              "      <td>0.737798</td>\n",
              "      <td>0.679600</td>\n",
              "      <td>19.447852</td>\n",
              "      <td>7.599949</td>\n",
              "    </tr>\n",
              "    <tr>\n",
              "      <th>min</th>\n",
              "      <td>2.000000</td>\n",
              "      <td>2.000000</td>\n",
              "      <td>2.000000</td>\n",
              "      <td>2.000000</td>\n",
              "      <td>2.000000</td>\n",
              "      <td>2.000000</td>\n",
              "      <td>0.000000</td>\n",
              "      <td>20.000000</td>\n",
              "    </tr>\n",
              "    <tr>\n",
              "      <th>25%</th>\n",
              "      <td>9.000000</td>\n",
              "      <td>9.000000</td>\n",
              "      <td>9.000000</td>\n",
              "      <td>10.000000</td>\n",
              "      <td>10.000000</td>\n",
              "      <td>10.000000</td>\n",
              "      <td>95.000000</td>\n",
              "      <td>92.000000</td>\n",
              "    </tr>\n",
              "    <tr>\n",
              "      <th>50%</th>\n",
              "      <td>10.000000</td>\n",
              "      <td>10.000000</td>\n",
              "      <td>10.000000</td>\n",
              "      <td>10.000000</td>\n",
              "      <td>10.000000</td>\n",
              "      <td>10.000000</td>\n",
              "      <td>100.000000</td>\n",
              "      <td>97.000000</td>\n",
              "    </tr>\n",
              "    <tr>\n",
              "      <th>75%</th>\n",
              "      <td>10.000000</td>\n",
              "      <td>10.000000</td>\n",
              "      <td>10.000000</td>\n",
              "      <td>10.000000</td>\n",
              "      <td>10.000000</td>\n",
              "      <td>10.000000</td>\n",
              "      <td>100.000000</td>\n",
              "      <td>100.000000</td>\n",
              "    </tr>\n",
              "    <tr>\n",
              "      <th>max</th>\n",
              "      <td>10.000000</td>\n",
              "      <td>10.000000</td>\n",
              "      <td>10.000000</td>\n",
              "      <td>10.000000</td>\n",
              "      <td>10.000000</td>\n",
              "      <td>10.000000</td>\n",
              "      <td>100.000000</td>\n",
              "      <td>100.000000</td>\n",
              "    </tr>\n",
              "  </tbody>\n",
              "</table>\n",
              "</div>\n",
              "    <div class=\"colab-df-buttons\">\n",
              "\n",
              "  <div class=\"colab-df-container\">\n",
              "    <button class=\"colab-df-convert\" onclick=\"convertToInteractive('df-621d1654-570f-4231-9275-1d0b07508357')\"\n",
              "            title=\"Convert this dataframe to an interactive table.\"\n",
              "            style=\"display:none;\">\n",
              "\n",
              "  <svg xmlns=\"http://www.w3.org/2000/svg\" height=\"24px\" viewBox=\"0 -960 960 960\">\n",
              "    <path d=\"M120-120v-720h720v720H120Zm60-500h600v-160H180v160Zm220 220h160v-160H400v160Zm0 220h160v-160H400v160ZM180-400h160v-160H180v160Zm440 0h160v-160H620v160ZM180-180h160v-160H180v160Zm440 0h160v-160H620v160Z\"/>\n",
              "  </svg>\n",
              "    </button>\n",
              "\n",
              "  <style>\n",
              "    .colab-df-container {\n",
              "      display:flex;\n",
              "      gap: 12px;\n",
              "    }\n",
              "\n",
              "    .colab-df-convert {\n",
              "      background-color: #E8F0FE;\n",
              "      border: none;\n",
              "      border-radius: 50%;\n",
              "      cursor: pointer;\n",
              "      display: none;\n",
              "      fill: #1967D2;\n",
              "      height: 32px;\n",
              "      padding: 0 0 0 0;\n",
              "      width: 32px;\n",
              "    }\n",
              "\n",
              "    .colab-df-convert:hover {\n",
              "      background-color: #E2EBFA;\n",
              "      box-shadow: 0px 1px 2px rgba(60, 64, 67, 0.3), 0px 1px 3px 1px rgba(60, 64, 67, 0.15);\n",
              "      fill: #174EA6;\n",
              "    }\n",
              "\n",
              "    .colab-df-buttons div {\n",
              "      margin-bottom: 4px;\n",
              "    }\n",
              "\n",
              "    [theme=dark] .colab-df-convert {\n",
              "      background-color: #3B4455;\n",
              "      fill: #D2E3FC;\n",
              "    }\n",
              "\n",
              "    [theme=dark] .colab-df-convert:hover {\n",
              "      background-color: #434B5C;\n",
              "      box-shadow: 0px 1px 3px 1px rgba(0, 0, 0, 0.15);\n",
              "      filter: drop-shadow(0px 1px 2px rgba(0, 0, 0, 0.3));\n",
              "      fill: #FFFFFF;\n",
              "    }\n",
              "  </style>\n",
              "\n",
              "    <script>\n",
              "      const buttonEl =\n",
              "        document.querySelector('#df-621d1654-570f-4231-9275-1d0b07508357 button.colab-df-convert');\n",
              "      buttonEl.style.display =\n",
              "        google.colab.kernel.accessAllowed ? 'block' : 'none';\n",
              "\n",
              "      async function convertToInteractive(key) {\n",
              "        const element = document.querySelector('#df-621d1654-570f-4231-9275-1d0b07508357');\n",
              "        const dataTable =\n",
              "          await google.colab.kernel.invokeFunction('convertToInteractive',\n",
              "                                                    [key], {});\n",
              "        if (!dataTable) return;\n",
              "\n",
              "        const docLinkHtml = 'Like what you see? Visit the ' +\n",
              "          '<a target=\"_blank\" href=https://colab.research.google.com/notebooks/data_table.ipynb>data table notebook</a>'\n",
              "          + ' to learn more about interactive tables.';\n",
              "        element.innerHTML = '';\n",
              "        dataTable['output_type'] = 'display_data';\n",
              "        await google.colab.output.renderOutput(dataTable, element);\n",
              "        const docLink = document.createElement('div');\n",
              "        docLink.innerHTML = docLinkHtml;\n",
              "        element.appendChild(docLink);\n",
              "      }\n",
              "    </script>\n",
              "  </div>\n",
              "\n",
              "\n",
              "<div id=\"df-793a228e-6d45-495c-ba75-396eac30f6dd\">\n",
              "  <button class=\"colab-df-quickchart\" onclick=\"quickchart('df-793a228e-6d45-495c-ba75-396eac30f6dd')\"\n",
              "            title=\"Suggest charts\"\n",
              "            style=\"display:none;\">\n",
              "\n",
              "<svg xmlns=\"http://www.w3.org/2000/svg\" height=\"24px\"viewBox=\"0 0 24 24\"\n",
              "     width=\"24px\">\n",
              "    <g>\n",
              "        <path d=\"M19 3H5c-1.1 0-2 .9-2 2v14c0 1.1.9 2 2 2h14c1.1 0 2-.9 2-2V5c0-1.1-.9-2-2-2zM9 17H7v-7h2v7zm4 0h-2V7h2v10zm4 0h-2v-4h2v4z\"/>\n",
              "    </g>\n",
              "</svg>\n",
              "  </button>\n",
              "\n",
              "<style>\n",
              "  .colab-df-quickchart {\n",
              "      --bg-color: #E8F0FE;\n",
              "      --fill-color: #1967D2;\n",
              "      --hover-bg-color: #E2EBFA;\n",
              "      --hover-fill-color: #174EA6;\n",
              "      --disabled-fill-color: #AAA;\n",
              "      --disabled-bg-color: #DDD;\n",
              "  }\n",
              "\n",
              "  [theme=dark] .colab-df-quickchart {\n",
              "      --bg-color: #3B4455;\n",
              "      --fill-color: #D2E3FC;\n",
              "      --hover-bg-color: #434B5C;\n",
              "      --hover-fill-color: #FFFFFF;\n",
              "      --disabled-bg-color: #3B4455;\n",
              "      --disabled-fill-color: #666;\n",
              "  }\n",
              "\n",
              "  .colab-df-quickchart {\n",
              "    background-color: var(--bg-color);\n",
              "    border: none;\n",
              "    border-radius: 50%;\n",
              "    cursor: pointer;\n",
              "    display: none;\n",
              "    fill: var(--fill-color);\n",
              "    height: 32px;\n",
              "    padding: 0;\n",
              "    width: 32px;\n",
              "  }\n",
              "\n",
              "  .colab-df-quickchart:hover {\n",
              "    background-color: var(--hover-bg-color);\n",
              "    box-shadow: 0 1px 2px rgba(60, 64, 67, 0.3), 0 1px 3px 1px rgba(60, 64, 67, 0.15);\n",
              "    fill: var(--button-hover-fill-color);\n",
              "  }\n",
              "\n",
              "  .colab-df-quickchart-complete:disabled,\n",
              "  .colab-df-quickchart-complete:disabled:hover {\n",
              "    background-color: var(--disabled-bg-color);\n",
              "    fill: var(--disabled-fill-color);\n",
              "    box-shadow: none;\n",
              "  }\n",
              "\n",
              "  .colab-df-spinner {\n",
              "    border: 2px solid var(--fill-color);\n",
              "    border-color: transparent;\n",
              "    border-bottom-color: var(--fill-color);\n",
              "    animation:\n",
              "      spin 1s steps(1) infinite;\n",
              "  }\n",
              "\n",
              "  @keyframes spin {\n",
              "    0% {\n",
              "      border-color: transparent;\n",
              "      border-bottom-color: var(--fill-color);\n",
              "      border-left-color: var(--fill-color);\n",
              "    }\n",
              "    20% {\n",
              "      border-color: transparent;\n",
              "      border-left-color: var(--fill-color);\n",
              "      border-top-color: var(--fill-color);\n",
              "    }\n",
              "    30% {\n",
              "      border-color: transparent;\n",
              "      border-left-color: var(--fill-color);\n",
              "      border-top-color: var(--fill-color);\n",
              "      border-right-color: var(--fill-color);\n",
              "    }\n",
              "    40% {\n",
              "      border-color: transparent;\n",
              "      border-right-color: var(--fill-color);\n",
              "      border-top-color: var(--fill-color);\n",
              "    }\n",
              "    60% {\n",
              "      border-color: transparent;\n",
              "      border-right-color: var(--fill-color);\n",
              "    }\n",
              "    80% {\n",
              "      border-color: transparent;\n",
              "      border-right-color: var(--fill-color);\n",
              "      border-bottom-color: var(--fill-color);\n",
              "    }\n",
              "    90% {\n",
              "      border-color: transparent;\n",
              "      border-bottom-color: var(--fill-color);\n",
              "    }\n",
              "  }\n",
              "</style>\n",
              "\n",
              "  <script>\n",
              "    async function quickchart(key) {\n",
              "      const quickchartButtonEl =\n",
              "        document.querySelector('#' + key + ' button');\n",
              "      quickchartButtonEl.disabled = true;  // To prevent multiple clicks.\n",
              "      quickchartButtonEl.classList.add('colab-df-spinner');\n",
              "      try {\n",
              "        const charts = await google.colab.kernel.invokeFunction(\n",
              "            'suggestCharts', [key], {});\n",
              "      } catch (error) {\n",
              "        console.error('Error during call to suggestCharts:', error);\n",
              "      }\n",
              "      quickchartButtonEl.classList.remove('colab-df-spinner');\n",
              "      quickchartButtonEl.classList.add('colab-df-quickchart-complete');\n",
              "    }\n",
              "    (() => {\n",
              "      let quickchartButtonEl =\n",
              "        document.querySelector('#df-793a228e-6d45-495c-ba75-396eac30f6dd button');\n",
              "      quickchartButtonEl.style.display =\n",
              "        google.colab.kernel.accessAllowed ? 'block' : 'none';\n",
              "    })();\n",
              "  </script>\n",
              "</div>\n",
              "\n",
              "    </div>\n",
              "  </div>\n"
            ],
            "application/vnd.google.colaboratory.intrinsic+json": {
              "type": "dataframe",
              "summary": "{\n  \"name\": \"df[rating_columns]\",\n  \"rows\": 8,\n  \"fields\": [\n    {\n      \"column\": \"Value Rating\",\n      \"properties\": {\n        \"dtype\": \"number\",\n        \"std\": 6668.25751006441,\n        \"min\": 0.8404559120088934,\n        \"max\": 18868.0,\n        \"num_unique_values\": 6,\n        \"samples\": [\n          18868.0,\n          9.417638329446682,\n          10.0\n        ],\n        \"semantic_type\": \"\",\n        \"description\": \"\"\n      }\n    },\n    {\n      \"column\": \"Location Rating\",\n      \"properties\": {\n        \"dtype\": \"number\",\n        \"std\": 6669.316121557855,\n        \"min\": 0.7487129257970823,\n        \"max\": 18871.0,\n        \"num_unique_values\": 6,\n        \"samples\": [\n          18871.0,\n          9.550315298606327,\n          10.0\n        ],\n        \"semantic_type\": \"\",\n        \"description\": \"\"\n      }\n    },\n    {\n      \"column\": \"Cleanliness Rating\",\n      \"properties\": {\n        \"dtype\": \"number\",\n        \"std\": 6676.737302632903,\n        \"min\": 1.0312481721593412,\n        \"max\": 18892.0,\n        \"num_unique_values\": 6,\n        \"samples\": [\n          18892.0,\n          9.334903662926106,\n          10.0\n        ],\n        \"semantic_type\": \"\",\n        \"description\": \"\"\n      }\n    },\n    {\n      \"column\": \"Checkin Rating\",\n      \"properties\": {\n        \"dtype\": \"number\",\n        \"std\": 6668.905804307666,\n        \"min\": 0.6952751634975751,\n        \"max\": 18870.0,\n        \"num_unique_values\": 5,\n        \"samples\": [\n          9.72882882882883,\n          10.0,\n          0.6952751634975751\n        ],\n        \"semantic_type\": \"\",\n        \"description\": \"\"\n      }\n    },\n    {\n      \"column\": \"Accuracy Rating\",\n      \"properties\": {\n        \"dtype\": \"number\",\n        \"std\": 6675.270081878541,\n        \"min\": 0.7377976401501577,\n        \"max\": 18888.0,\n        \"num_unique_values\": 5,\n        \"samples\": [\n          9.679849639983058,\n          10.0,\n          0.7377976401501577\n        ],\n        \"semantic_type\": \"\",\n        \"description\": \"\"\n      }\n    },\n    {\n      \"column\": \"Communication Rating\",\n      \"properties\": {\n        \"dtype\": \"number\",\n        \"std\": 6674.562561000178,\n        \"min\": 0.6795995038066525,\n        \"max\": 18886.0,\n        \"num_unique_values\": 5,\n        \"samples\": [\n          9.746478873239436,\n          10.0,\n          0.6795995038066525\n        ],\n        \"semantic_type\": \"\",\n        \"description\": \"\"\n      }\n    },\n    {\n      \"column\": \"Host Response Rate\",\n      \"properties\": {\n        \"dtype\": \"number\",\n        \"std\": 4587.060739369269,\n        \"min\": 0.0,\n        \"max\": 13046.0,\n        \"num_unique_values\": 6,\n        \"samples\": [\n          13046.0,\n          91.8421738463897,\n          100.0\n        ],\n        \"semantic_type\": \"\",\n        \"description\": \"\"\n      }\n    },\n    {\n      \"column\": \"Overall Rating\",\n      \"properties\": {\n        \"dtype\": \"number\",\n        \"std\": 6661.397785526761,\n        \"min\": 7.599948912396038,\n        \"max\": 18914.0,\n        \"num_unique_values\": 7,\n        \"samples\": [\n          18914.0,\n          94.56434387226393,\n          97.0\n        ],\n        \"semantic_type\": \"\",\n        \"description\": \"\"\n      }\n    }\n  ]\n}"
            }
          },
          "metadata": {},
          "execution_count": 14
        }
      ]
    },
    {
      "cell_type": "code",
      "source": [
        "df[['Host Since Year', 'Host Since Month', 'Host Since Day']].describe()"
      ],
      "metadata": {
        "id": "O0RufzNn-7mB"
      },
      "execution_count": null,
      "outputs": []
    },
    {
      "cell_type": "markdown",
      "source": [
        "Several rows with unusually high values can be identified and may in some cases be dropped at a certain threshold\n",
        "\n",
        "The description of price shows that 75% of the room only charged within 70€. But we can find the maximized price is extremely large - up to 9000€.\n",
        "\n",
        "To exclude the outlier in this dataset, we set the data limit of 600€.\n",
        "\n",
        "It also shows that data has 0 price, that is not make sense. So we will exclude it too."
      ],
      "metadata": {
        "id": "Vnd-QlUI0mWZ"
      }
    },
    {
      "cell_type": "code",
      "source": [
        "df[['Beds','Min Nights','Reviews','Price']].describe().loc[['max']].T"
      ],
      "metadata": {
        "id": "oxjC6rM14SWm"
      },
      "execution_count": null,
      "outputs": []
    },
    {
      "cell_type": "markdown",
      "source": [
        "## Target Value"
      ],
      "metadata": {
        "id": "EVhWG3Wl8Zkx"
      }
    },
    {
      "cell_type": "code",
      "source": [
        "df[['Price']].describe()"
      ],
      "metadata": {
        "id": "mQSxm9TV0t09"
      },
      "execution_count": null,
      "outputs": []
    },
    {
      "cell_type": "markdown",
      "source": [
        "The description of price shows that 75% of the room only charged within 70€. But we can find the maximized price is extremely large - up to 9000€."
      ],
      "metadata": {
        "id": "7kGwy6akCiAz"
      }
    },
    {
      "cell_type": "markdown",
      "source": [
        "### Distribution of Price"
      ],
      "metadata": {
        "id": "6k5F3ltoCnes"
      }
    },
    {
      "cell_type": "code",
      "source": [
        "def target_value_distributions(df):\n",
        "  plt.figure(figsize=(10, 6))\n",
        "  sns.histplot(df['Price'], bins=200, kde=True)\n",
        "  plt.title(\"Distribution of Price\")\n",
        "  plt.xlabel(\"Price\")\n",
        "  plt.ylabel(\"Frequency\")\n",
        "  plt.show()"
      ],
      "metadata": {
        "id": "zk3QvMx_8QVv"
      },
      "execution_count": null,
      "outputs": []
    },
    {
      "cell_type": "code",
      "source": [
        "# Distribution of Price before dropping extream outlier values\n",
        "target_value_distributions(df)"
      ],
      "metadata": {
        "id": "hiM7gFSvDjMv"
      },
      "execution_count": null,
      "outputs": []
    },
    {
      "cell_type": "code",
      "source": [
        "plt.figure(figsize=(16, 2))\n",
        "sns.boxplot(df['Price'], orient='h')\n",
        "plt.show()"
      ],
      "metadata": {
        "id": "4hklYp1xDFZC"
      },
      "execution_count": null,
      "outputs": []
    },
    {
      "cell_type": "markdown",
      "source": [
        "To exclude the outlier in this dataset, we set the data limit of 600€."
      ],
      "metadata": {
        "id": "CkorBSZ2DOrw"
      }
    },
    {
      "cell_type": "code",
      "source": [
        "df = df[(df['Price'] <= 600) & (df['Price'] > 0)]\n",
        "df['Price'].describe()"
      ],
      "metadata": {
        "id": "ZaexJ-CFDOTo"
      },
      "execution_count": null,
      "outputs": []
    },
    {
      "cell_type": "code",
      "source": [
        "# Distribution of Price\n",
        "target_value_distributions(df)"
      ],
      "metadata": {
        "id": "r5ncSuXRDsNe"
      },
      "execution_count": null,
      "outputs": []
    },
    {
      "cell_type": "markdown",
      "source": [
        "### Location vs Price"
      ],
      "metadata": {
        "id": "ewy8upzHDIkx"
      }
    },
    {
      "cell_type": "code",
      "source": [
        "df.plot(kind=\"scatter\", x=\"Longitude\", y=\"Latitude\", alpha=0.7, figsize=(8,5),\n",
        "        c=\"Price\", cmap=\"gist_heat_r\", colorbar=True, sharex=False);"
      ],
      "metadata": {
        "id": "HJ6B_hdNDKY1"
      },
      "execution_count": null,
      "outputs": []
    },
    {
      "cell_type": "markdown",
      "source": [
        "## Missing values"
      ],
      "metadata": {
        "id": "21YTru3f-oLn"
      }
    },
    {
      "cell_type": "code",
      "source": [
        "# Check for missing values\n",
        "missing_values = df.isnull().sum()\n",
        "\n",
        "# Visualizing missing values\n",
        "plt.figure(figsize=(12, 6))\n",
        "sns.heatmap(df.isnull(), cbar=False, cmap='viridis')\n",
        "plt.title(\"Missing Values Heatmap\")\n",
        "plt.show()\n",
        "\n",
        "# Display missing values as a bar chart\n",
        "missing_values = missing_values[missing_values > 0].sort_values(ascending=False)\n",
        "plt.figure(figsize=(12, 6))\n",
        "sns.barplot(x=missing_values.values, y=missing_values.index, palette=\"viridis\")\n",
        "plt.xlabel(\"Count of Missing Values\")\n",
        "plt.ylabel(\"Columns\")\n",
        "plt.title(\"Missing Values Count per Column\")\n",
        "plt.show()\n",
        "\n",
        "\n",
        "print(\"\\nMissing Values:\")\n",
        "print(missing_values)"
      ],
      "metadata": {
        "id": "VD4Lfwwm-pDF"
      },
      "execution_count": null,
      "outputs": []
    },
    {
      "cell_type": "markdown",
      "source": [
        "## Dummies"
      ],
      "metadata": {
        "id": "aScIxTi9_EMb"
      }
    },
    {
      "cell_type": "code",
      "source": [
        "def plot_counts_for_columns(df, columns_names, rows=1, cols=3, figsize_=(20, 6)):\n",
        "  i = 1\n",
        "  plt.figure(figsize=figsize_)\n",
        "  plt.subplots_adjust(hspace = 0.5)\n",
        "  for col in columns_names:\n",
        "    plt.subplot(rows, cols, i)\n",
        "    plt.title(f\"'{col}'\")\n",
        "    plt.xlabel(col)\n",
        "    plt.ylabel(\"Count\")\n",
        "    sns.countplot(data=df, x=col, palette=\"viridis\")\n",
        "    i = i + 1\n",
        "\n",
        "  plt.tight_layout()\n",
        "  plt.show()\n",
        "  print (i)"
      ],
      "metadata": {
        "id": "BPzhJgGLic3l"
      },
      "execution_count": null,
      "outputs": []
    },
    {
      "cell_type": "code",
      "source": [
        "boolean_columns"
      ],
      "metadata": {
        "id": "lt5nxn5X_JuY"
      },
      "execution_count": null,
      "outputs": []
    },
    {
      "cell_type": "code",
      "source": [
        "df['Is Superhost'] = df['Is Superhost'].astype(bool)\n",
        "df[boolean_columns].info()"
      ],
      "metadata": {
        "id": "WDpdLNrj5lr3"
      },
      "execution_count": null,
      "outputs": []
    },
    {
      "cell_type": "code",
      "source": [
        "plot_counts_for_columns(df, boolean_columns)"
      ],
      "metadata": {
        "id": "gSDRqnvv6CmK"
      },
      "execution_count": null,
      "outputs": []
    },
    {
      "cell_type": "markdown",
      "source": [
        "## Categorial"
      ],
      "metadata": {
        "id": "FjmdFU9BhjYL"
      }
    },
    {
      "cell_type": "code",
      "source": [
        "df['Postal Code Reduced'].isna().sum()\n",
        "# df['Postal Code Reduced'] = df['Postal Code Reduced'].astype(str)"
      ],
      "metadata": {
        "id": "rHAKyllKnS2X"
      },
      "execution_count": null,
      "outputs": []
    },
    {
      "cell_type": "code",
      "source": [
        "categorical_columns"
      ],
      "metadata": {
        "id": "1gPtAedmh_N7"
      },
      "execution_count": null,
      "outputs": []
    },
    {
      "cell_type": "code",
      "source": [
        "xticks_map = {'Room Type':0, 'Property Type Reduced':90, 'Neighborhood Group':90, 'Neighbourhood Grouped':90, 'Postal Code Reduced':0, 'Host Response Time':45}\n",
        "i = 1\n",
        "plt.figure(figsize=(18, 15))\n",
        "plt.subplots_adjust(hspace = 0.5)\n",
        "for col in categorical_columns:\n",
        "  plt.subplot(2, 3, i)\n",
        "  plt.title(f\"Distribution of `{col}`\", fontsize=12, fontweight=\"bold\")\n",
        "  plt.xlabel(col, fontsize=14)\n",
        "  plt.xticks(rotation=xticks_map.get(col, 0), fontsize=14)\n",
        "  plt.ylabel(\"Count\")\n",
        "  sns.countplot(data=df, x=col, palette=\"viridis\")\n",
        "  i = i + 1\n",
        "\n",
        "plt.tight_layout()\n",
        "plt.show()"
      ],
      "metadata": {
        "id": "vKiwVpTmigta"
      },
      "execution_count": null,
      "outputs": []
    },
    {
      "cell_type": "code",
      "source": [
        "# df = df_EDA.copy()"
      ],
      "metadata": {
        "id": "biXe-pZGFab1"
      },
      "execution_count": null,
      "outputs": []
    },
    {
      "cell_type": "code",
      "source": [
        "# df['Host Since Year'] = df['Host Since Year'].astype('str').apply(lambda x: (x.split('.')[0]))\n",
        "# df['Host Since Year'] = df['Host Since Year'].apply(lambda x: None if x == 'nan' else x).astype('category')\n",
        "# df['Host Since Month'] = df['Host Since Month'].astype('str').apply(lambda x: x.split('.')[0])\n",
        "# df['Host Since Month'] = df['Host Since Month'].apply(lambda x: None if x == 'nan' else x).astype('category')\n",
        "# df['Host Since Day'] = df['Host Since Day'].astype('str').apply(lambda x: x.split('.')[0])\n",
        "# df['Host Since Day'] = df['Host Since Day'].apply(lambda x: None if x == 'nan' else x).astype('category')"
      ],
      "metadata": {
        "id": "IkhiYda9EP2P"
      },
      "execution_count": null,
      "outputs": []
    },
    {
      "cell_type": "code",
      "source": [
        "df['Host Since Year'].info()"
      ],
      "metadata": {
        "id": "sVKbvdGeEpyW"
      },
      "execution_count": null,
      "outputs": []
    },
    {
      "cell_type": "code",
      "source": [
        "df['Host Since Year'].isna().sum()"
      ],
      "metadata": {
        "id": "RJjBAk06Mhzr"
      },
      "execution_count": null,
      "outputs": []
    },
    {
      "cell_type": "code",
      "source": [
        "# df['Host Since Month'].value_counts().index.sort_values()\n",
        "# df['Host Since Month'].value_counts().index.sort_values( key=lambda x: pd.to_numeric(x, errors='coerce'))"
      ],
      "metadata": {
        "id": "f2osMh3zREBq"
      },
      "execution_count": null,
      "outputs": []
    },
    {
      "cell_type": "code",
      "source": [
        "i = 1\n",
        "plt.figure(figsize=(15, 8))\n",
        "# Adjust spacing\n",
        "plt.subplots_adjust(hspace=0.6)\n",
        "for col in ['Host Since Year','Host Since Month','Host Since Day']:\n",
        "  plt.subplot(2, 2, i)\n",
        "  plt.title(f\"Distribution of `{col}`\", fontsize=10, fontweight=\"bold\")\n",
        "  plt.xlabel(col)\n",
        "  plt.xticks(rotation=xticks_map.get(col, 0))\n",
        "  plt.ylabel(\"Count\")\n",
        "  sorted_order = df[col].value_counts().index.sort_values( key=lambda x: pd.to_numeric(x, errors='coerce'))\n",
        "  sns.countplot(data=df, x=col, order=sorted_order, palette=\"viridis\")\n",
        "  i = i + 1\n",
        "\n",
        "plt.tight_layout()\n",
        "plt.show()"
      ],
      "metadata": {
        "id": "9ewf6bawPeW9"
      },
      "execution_count": null,
      "outputs": []
    },
    {
      "cell_type": "markdown",
      "source": [
        "## Continues and numrical data"
      ],
      "metadata": {
        "id": "OT3FBRSKNoGf"
      }
    },
    {
      "cell_type": "markdown",
      "source": [
        "### Histograms for continues numbers"
      ],
      "metadata": {
        "id": "DMqNjwStKU4i"
      }
    },
    {
      "cell_type": "markdown",
      "source": [
        "Checking the distribution of key numerical features"
      ],
      "metadata": {
        "id": "El4s4botHivE"
      }
    },
    {
      "cell_type": "code",
      "source": [
        "numerical_columns"
      ],
      "metadata": {
        "id": "c_-IcwvqG_vV"
      },
      "execution_count": null,
      "outputs": []
    },
    {
      "cell_type": "code",
      "source": [
        "def plot_histplot_for_columns(df, numerical_columns):\n",
        "  plt.figure(figsize=(12, 12))\n",
        "  plt.subplots_adjust(hspace = 0.5)\n",
        "  for i, col in enumerate(numerical_columns, 1):\n",
        "    plt.subplot(4, 2, i)\n",
        "    sns.histplot(df[col].dropna(), bins=50, kde=False)\n",
        "    plt.title(f\"Distribution of {col}\")\n",
        "\n",
        "  plt.tight_layout()\n",
        "  plt.show()"
      ],
      "metadata": {
        "id": "Hmy-2ewBH_e_"
      },
      "execution_count": null,
      "outputs": []
    },
    {
      "cell_type": "code",
      "source": [
        "# Checking the distribution of key numerical features\n",
        "# numerical_columns = [\n",
        "#     \"Price\", \"Reviews\", \"Overall Rating\", \"Bedrooms\", \"Bathrooms\", \"Beds\", \"Accomodates\"\n",
        "# ]\n",
        "\n",
        "plot_histplot_for_columns(df, numerical_columns)"
      ],
      "metadata": {
        "id": "HMaiHOXcAgI7"
      },
      "execution_count": null,
      "outputs": []
    },
    {
      "cell_type": "markdown",
      "source": [
        "As expected, we can notice that some of the numerics are more categorical data like (for example, Accomadates, Bathrooms and Beds).\n",
        "It worth using barplot to show relations ship with target value"
      ],
      "metadata": {
        "id": "lAj_d59JHD3J"
      }
    },
    {
      "cell_type": "code",
      "source": [
        "plot_histplot_for_columns(df, rating_columns)"
      ],
      "metadata": {
        "id": "iD4HebqzIXDB"
      },
      "execution_count": null,
      "outputs": []
    },
    {
      "cell_type": "markdown",
      "source": [
        "### Bars for continues numbers"
      ],
      "metadata": {
        "id": "--6U5J0VNhWR"
      }
    },
    {
      "cell_type": "code",
      "source": [
        "categorical_columns"
      ],
      "metadata": {
        "id": "IZQJ2cqINzwq"
      },
      "execution_count": null,
      "outputs": []
    },
    {
      "cell_type": "code",
      "source": [
        "plt.figure(figsize=(12, 12))\n",
        "plt.subplots_adjust(hspace = 0.5)\n",
        "for i, col in enumerate(categorical_columns, 1):\n",
        "  plt.subplot(3, 2, i)\n",
        "  sns.barplot(x=df[col], y=df['Price'], errcolor=\"red\")\n",
        "  plt.xticks(rotation=90)\n",
        "  plt.title(f\"Distribution of Price by '{col}'\")\n",
        "\n",
        "plt.tight_layout()\n",
        "plt.show()"
      ],
      "metadata": {
        "id": "TTBL0N8pHehA"
      },
      "execution_count": null,
      "outputs": []
    },
    {
      "cell_type": "code",
      "source": [
        "df['Room Type'].value_counts()"
      ],
      "metadata": {
        "id": "Ngv0XRsS0cgb"
      },
      "execution_count": null,
      "outputs": []
    },
    {
      "cell_type": "code",
      "source": [
        "# sns.histplot(data = df[df['Room Type'] == 'Private room'], x=\"Price\", bins=50, kde=True)\n",
        "sns.histplot(data = df, x=\"Price\", bins=50, hue=\"Room Type\", kde=True, multiple=\"dodge\")"
      ],
      "metadata": {
        "id": "ipX70Y4xI1a_"
      },
      "execution_count": null,
      "outputs": []
    },
    {
      "cell_type": "code",
      "source": [
        "boolean_columns"
      ],
      "metadata": {
        "id": "CYDmyf2-13hi"
      },
      "execution_count": null,
      "outputs": []
    },
    {
      "cell_type": "code",
      "source": [
        "sns.histplot(data = df, x=\"Price\", bins=50, hue=\"Is Superhost\", kde=True, multiple=\"dodge\")"
      ],
      "metadata": {
        "id": "v2S-hzE_110r"
      },
      "execution_count": null,
      "outputs": []
    },
    {
      "cell_type": "code",
      "source": [
        "sns.histplot(data = df, x=\"Price\", bins=50, hue=\"Neighborhood Group\", kde=True, multiple=\"dodge\")"
      ],
      "metadata": {
        "id": "sEBooORj2IWQ"
      },
      "execution_count": null,
      "outputs": []
    },
    {
      "cell_type": "code",
      "source": [
        "bar_plot_columns = ['Bedrooms', 'Bathrooms', 'Beds']\n",
        "plt.figure(figsize=(15, 10))\n",
        "plt.subplots_adjust(hspace = 0.5)\n",
        "i = 1\n",
        "for col in bar_plot_columns:\n",
        "  plt.subplot(3, 2, i)\n",
        "  sns.scatterplot(x=df[col], y=df['Price'], color='red')\n",
        "  plt.title(f\"Distribution of Price by '{col}'\")\n",
        "\n",
        "  plt.subplot(3, 2, i+1)\n",
        "  sns.barplot(x=df[col], y=df['Price'], errcolor=\"red\")\n",
        "  plt.title(f\"Distribution of Price by '{col}'\")\n",
        "\n",
        "  i = i + 2\n",
        "plt.tight_layout()\n",
        "plt.show()"
      ],
      "metadata": {
        "id": "vhEqynQaYfd6"
      },
      "execution_count": null,
      "outputs": []
    },
    {
      "cell_type": "code",
      "source": [
        "bar_plot_columns = ['Bedrooms', 'Bathrooms', 'Beds']\n",
        "plt.figure(figsize=(15, 6))\n",
        "plt.subplots_adjust(hspace = 0.5)\n",
        "for i, col in enumerate(bar_plot_columns, 1):\n",
        "  plt.subplot(2, 2, i)\n",
        "  sns.barplot(x=df[col], y=df['Price'], errcolor=\"red\")\n",
        "  plt.title(f\"Distribution of Price by '{col}'\")\n",
        "  plt.axvline(df[col].mean(), color='red', linestyle='dashed', linewidth=2)\n",
        "  plt.axvline(df[col].median(), color='green', linestyle='dashed', linewidth=2)\n",
        "\n",
        "plt.tight_layout()\n",
        "plt.show()"
      ],
      "metadata": {
        "id": "76MIpFMKJ5_B"
      },
      "execution_count": null,
      "outputs": []
    },
    {
      "cell_type": "markdown",
      "source": [
        "## Skewness"
      ],
      "metadata": {
        "id": "lPpEcAC4KksU"
      }
    },
    {
      "cell_type": "markdown",
      "source": [
        "## Outliers"
      ],
      "metadata": {
        "id": "-eLDbbCFgWFt"
      }
    },
    {
      "cell_type": "markdown",
      "source": [
        "### Target Value"
      ],
      "metadata": {
        "id": "lXBcavqtyPvL"
      }
    },
    {
      "cell_type": "code",
      "source": [
        "# Outlier detection using boxplots for key numerical features\n",
        "# Selecting key numerical columns for outlier detection\n",
        "numerical_columns = [\n",
        "    \"Price\", \"Reviews\", \"Overall Rating\", \"Bedrooms\", \"Bathrooms\", \"Beds\", \"Accomodates\"\n",
        "]\n",
        "\n",
        "plt.figure(figsize=(12, 10))\n",
        "for i, col in enumerate(numerical_columns, 1):\n",
        "    plt.subplot(4, 2, i)\n",
        "    sns.boxplot(x=df[col].dropna(), palette=\"coolwarm\")\n",
        "    plt.title(f\"Boxplot of {col}\")\n",
        "\n",
        "plt.tight_layout()\n",
        "plt.show()\n"
      ],
      "metadata": {
        "id": "26O30m1BgXMU"
      },
      "execution_count": null,
      "outputs": []
    }
  ]
}